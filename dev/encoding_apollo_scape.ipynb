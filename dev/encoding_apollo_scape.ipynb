{
 "cells": [
  {
   "cell_type": "markdown",
   "metadata": {},
   "source": [
    "# Demo: encoding apollo scape"
   ]
  },
  {
   "cell_type": "markdown",
   "metadata": {},
   "source": [
    "## Step 1: Loading all meshes from Apollo Scape"
   ]
  },
  {
   "cell_type": "code",
   "execution_count": null,
   "metadata": {},
   "outputs": [],
   "source": [
    "import glob\n",
    "import torch\n",
    "from pytorch3d.io import load_obj\n",
    "from pytorch3d.structures import Meshes, Pointclouds\n",
    "from pytorch3d.vis.plotly_vis import plot_scene\n",
    "from pprint import pprint\n",
    "\n",
    "TSDF_UNIT = 0.1\n",
    "APOLLO_SCAPE_PATH = \"../assets/apollo_scape/*.obj\"\n",
    "\n",
    "obj_glob = glob.glob(APOLLO_SCAPE_PATH)\n",
    "pprint(obj_glob)\n",
    "\n",
    "apollo_scape_meshes = None\n",
    "\n",
    "verts_list, faces_list = list(), list()\n",
    "for obj_path in obj_glob:\n",
    "    verts, faces, _ = load_obj(obj_path, load_textures=False)\n",
    "    verts_list.append(verts)\n",
    "    faces_list.append(faces.verts_idx)\n",
    "\n",
    "apollo_scape_meshes = Meshes(verts_list, faces_list)\n",
    "print(f\"Meshes size: {apollo_scape_meshes.__len__()}\")"
   ]
  },
  {
   "cell_type": "markdown",
   "metadata": {},
   "source": [
    "## Step 2: Preparing all the meshes"
   ]
  },
  {
   "cell_type": "code",
   "execution_count": null,
   "metadata": {},
   "outputs": [],
   "source": [
    "bbox = apollo_scape_meshes.verts_packed().amax(0) - apollo_scape_meshes.verts_packed().amin(0)\n",
    "antisotropic_res = (bbox / TSDF_UNIT).ceil().int()\n",
    "print(f\"bbox: {bbox}\")\n",
    "print(f\"resolution: {antisotropic_res}\")\n",
    "\n",
    "# Move all the vehicle to the center\n",
    "apollo_scape_meshes.offset_verts_(torch.Tensor([0.0, -bbox[1].item()/2, 0.0]))"
   ]
  },
  {
   "cell_type": "markdown",
   "metadata": {},
   "source": [
    "## Step 3: Instantiating TSDF object & run"
   ]
  },
  {
   "cell_type": "code",
   "execution_count": null,
   "metadata": {},
   "outputs": [],
   "source": [
    "import sys\n",
    "import os\n",
    "\n",
    "sys.path.append(\"..\")\n",
    "\n",
    "from voxeltorch import TSDF, tsdf2meshes\n",
    "\n",
    "tsdf = TSDF(resolution=antisotropic_res, sampling_count=4096, downsampling_count=2048, bbox=bbox, isotropic=True)"
   ]
  },
  {
   "cell_type": "code",
   "execution_count": null,
   "metadata": {},
   "outputs": [],
   "source": [
    "tsdf_grid = tsdf.tsdf(apollo_scape_meshes)\n",
    "print(tsdf_grid.size())"
   ]
  },
  {
   "cell_type": "markdown",
   "metadata": {},
   "source": [
    "## Step 4: Visualizing TSDF Meshes"
   ]
  },
  {
   "cell_type": "code",
   "execution_count": null,
   "metadata": {},
   "outputs": [],
   "source": [
    "def visualize_meshes(meshes:Meshes, title:str=\"Mesh\"):\n",
    "    mesh_dict = { }\n",
    "    for idx in range(meshes.__len__()):\n",
    "        mesh_dict[title + f\" {idx}\"] = {\n",
    "            \"mesh\": meshes[idx]\n",
    "        }\n",
    "    fig = plot_scene(mesh_dict, ncols=2)\n",
    "    fig.update_layout(height=400, width=400 * meshes.__len__())\n",
    "    return fig.show()"
   ]
  },
  {
   "cell_type": "code",
   "execution_count": null,
   "metadata": {},
   "outputs": [],
   "source": [
    "selected_idx = torch.randint(0, apollo_scape_meshes.__len__() - 1, (2, ))\n",
    "print(\"Visualizing original meshes...\")\n",
    "visualize_meshes(apollo_scape_meshes[selected_idx], \"Original Meshes\")\n",
    "print(\"Visualizing voxel meshes from TSDF...\")\n",
    "tsdf_meshes = tsdf2meshes(tsdf_grid[selected_idx], antisotropic_res / bbox)\n",
    "visualize_meshes(tsdf_meshes, \"TSDF Meshes\")"
   ]
  }
 ],
 "metadata": {
  "kernelspec": {
   "display_name": "car_shape_recon",
   "language": "python",
   "name": "python3"
  },
  "language_info": {
   "codemirror_mode": {
    "name": "ipython",
    "version": 3
   },
   "file_extension": ".py",
   "mimetype": "text/x-python",
   "name": "python",
   "nbconvert_exporter": "python",
   "pygments_lexer": "ipython3",
   "version": "3.10.0"
  }
 },
 "nbformat": 4,
 "nbformat_minor": 2
}
