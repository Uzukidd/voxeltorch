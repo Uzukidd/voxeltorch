{
 "cells": [
  {
   "cell_type": "markdown",
   "metadata": {},
   "source": [
    "# Demo: encoding apollo scape"
   ]
  },
  {
   "cell_type": "markdown",
   "metadata": {},
   "source": [
    "## Step 1: Loading all meshes from Apollo Scape"
   ]
  },
  {
   "cell_type": "code",
   "execution_count": null,
   "metadata": {},
   "outputs": [],
   "source": [
    "import glob\n",
    "import torch\n",
    "from pytorch3d.io import load_obj\n",
    "from pytorch3d.structures import Meshes, Pointclouds\n",
    "from pytorch3d.vis.plotly_vis import plot_scene\n",
    "from pprint import pprint\n",
    "\n",
    "DEVICE = torch.device(\"cuda:0\")\n",
    "TSDF_UNIT = torch.Tensor([0.1]*3).to(DEVICE)\n",
    "APOLLO_SCAPE_PATH = \"../assets/apollo_scape/*.obj\"\n",
    "\n",
    "obj_glob = glob.glob(APOLLO_SCAPE_PATH)\n",
    "pprint(obj_glob)\n",
    "\n",
    "apollo_scape_meshes = None\n",
    "\n",
    "verts_list, faces_list = list(), list()\n",
    "for obj_path in obj_glob:\n",
    "    verts, faces, _ = load_obj(obj_path, load_textures=False)\n",
    "    verts_list.append(verts)\n",
    "    faces_list.append(faces.verts_idx)\n",
    "\n",
    "apollo_scape_meshes = Meshes(verts_list, faces_list).to(DEVICE)\n",
    "print(f\"Meshes size: {apollo_scape_meshes.__len__()}\")"
   ]
  },
  {
   "cell_type": "markdown",
   "metadata": {},
   "source": [
    "## Step 2: Preparing all the meshes"
   ]
  },
  {
   "cell_type": "code",
   "execution_count": null,
   "metadata": {},
   "outputs": [],
   "source": [
    "bbox = apollo_scape_meshes.verts_packed().amax(\n",
    "    0) - apollo_scape_meshes.verts_packed().amin(0)\n",
    "\n",
    "antisotropic_res = (bbox / TSDF_UNIT).ceil().int()\n",
    "quantified_bbox = TSDF_UNIT * antisotropic_res\n",
    "\n",
    "print(f\"bbox: {bbox}\")\n",
    "print(f\"resolution: {antisotropic_res}\")\n",
    "print(f\"quantified bbox: {quantified_bbox}\")\n",
    "\n",
    "\n",
    "# Move all the vehicle to the center\n",
    "\n",
    "apollo_scape_meshes.offset_verts_(torch.Tensor([0.0, -bbox[1].item()/2, 0.0]).to(DEVICE))"
   ]
  },
  {
   "cell_type": "markdown",
   "metadata": {},
   "source": [
    "## Step 3: Spliting training set and testing set"
   ]
  },
  {
   "cell_type": "code",
   "execution_count": null,
   "metadata": {},
   "outputs": [],
   "source": [
    "dataset_size = apollo_scape_meshes.__len__()\n",
    "\n",
    "train_ratio = 0.8\n",
    "test_ratio = 1 - train_ratio\n",
    "\n",
    "indices = torch.randperm(dataset_size)\n",
    "\n",
    "train_size = int(train_ratio * dataset_size)\n",
    "\n",
    "train_indices = indices[:train_size]\n",
    "test_indices = indices[train_size:]\n",
    "\n",
    "train_meshes: Meshes = apollo_scape_meshes[train_indices]\n",
    "test_meshes: Meshes = apollo_scape_meshes[test_indices]"
   ]
  },
  {
   "cell_type": "markdown",
   "metadata": {},
   "source": [
    "## Step 4: Instantiating TSDF object & run"
   ]
  },
  {
   "cell_type": "code",
   "execution_count": null,
   "metadata": {},
   "outputs": [],
   "source": [
    "import sys\n",
    "import os\n",
    "\n",
    "sys.path.append(\"..\")\n",
    "\n",
    "from voxeltorch import TSDF, tsdf2meshes\n",
    "\n",
    "\n",
    "tsdf = TSDF(resolution=antisotropic_res + 1, sampling_count=4096,\n",
    "            downsampling_count=2048, bbox=quantified_bbox, isotropic=True)"
   ]
  },
  {
   "cell_type": "code",
   "execution_count": null,
   "metadata": {},
   "outputs": [],
   "source": [
    "train_tsdf_grid = tsdf.tsdf(train_meshes)\n",
    "print(train_tsdf_grid.size())\n",
    "\n",
    "test_tsdf_grid = tsdf.tsdf(test_meshes)\n",
    "print(test_tsdf_grid.size())"
   ]
  },
  {
   "cell_type": "markdown",
   "metadata": {},
   "source": [
    "## Step 5: Visualizing TSDF Meshes"
   ]
  },
  {
   "cell_type": "code",
   "execution_count": null,
   "metadata": {},
   "outputs": [],
   "source": [
    "def visualize_meshes(meshes: Meshes, title: str = \"Mesh\"):\n",
    "    mesh_dict = {}\n",
    "    for idx in range(meshes.__len__()):\n",
    "        mesh_dict[title + f\" {idx}\"] = {\n",
    "            \"mesh\": meshes[idx]\n",
    "        }\n",
    "    fig = plot_scene(mesh_dict, ncols=2)\n",
    "    fig.update_layout(height=400, width=400 * meshes.__len__())\n",
    "    return fig.show()"
   ]
  },
  {
   "cell_type": "code",
   "execution_count": null,
   "metadata": {},
   "outputs": [],
   "source": [
    "selected_idx = torch.randint(0, train_meshes.__len__() - 1, (2, ))\n",
    "print(\"Visualizing original meshes...\")\n",
    "visualize_meshes(train_meshes[selected_idx], \"Original Meshes\")\n",
    "\n",
    "print(\"Visualizing voxel meshes from TSDF...\")\n",
    "tsdf_meshes = tsdf2meshes(\n",
    "    train_tsdf_grid[selected_idx], TSDF_UNIT)\n",
    "visualize_meshes(tsdf_meshes, \"TSDF Meshes\")"
   ]
  },
  {
   "cell_type": "markdown",
   "metadata": {},
   "source": [
    "## Step 6: Building PCA Encoder"
   ]
  },
  {
   "cell_type": "code",
   "execution_count": null,
   "metadata": {},
   "outputs": [],
   "source": [
    "import torch\n",
    "import torch.nn as nn\n",
    "import torch.nn.functional as F\n",
    "\n",
    "\n",
    "class PCA_encoder(nn.Module):\n",
    "    def __init__(self, Q: int = 5):\n",
    "        # Parameters\n",
    "        self.mean = None\n",
    "        self.U = None  # [B, q]\n",
    "        self.S = None  # [q]\n",
    "        self.V = None  # [n, q]\n",
    "\n",
    "        # Target rank compress to\n",
    "        self.Q = Q\n",
    "\n",
    "    def fit(self, batch_X: torch.Tensor):\n",
    "        \"\"\"\n",
    "        Args:\n",
    "            batch_X: [B, N]\n",
    "        \"\"\"\n",
    "        self.mean = batch_X.mean(dim=0)\n",
    "        self.U, self.S, self.V = torch.pca_lowrank(\n",
    "            batch_X - self.mean, q=self.Q, center=True)\n",
    "\n",
    "    def encode(self, batch_X: torch.Tensor):\n",
    "        \"\"\"\n",
    "        Args:\n",
    "            batch_X: [B, N]\n",
    "        Returns:\n",
    "            latent: [B, Q]\n",
    "        \"\"\"\n",
    "        latent = (batch_X - self.mean) @ self.V @ self.S.diag().inverse()\n",
    "        return latent\n",
    "\n",
    "    def decode(self, latent: torch.Tensor):\n",
    "        \"\"\"\n",
    "        Args:\n",
    "            latent: [B, Q]\n",
    "        Returns:\n",
    "            reconstructed_X: [B, N]\n",
    "        \"\"\"\n",
    "        reconstructed_X = latent @ self.S.diag() @ self.V.T + self.mean\n",
    "        return reconstructed_X\n",
    "\n",
    "\n",
    "tsdf_encoder = PCA_encoder(Q=5)"
   ]
  },
  {
   "cell_type": "code",
   "execution_count": null,
   "metadata": {},
   "outputs": [],
   "source": [
    "tsdf_encoder.fit(train_tsdf_grid.view(train_tsdf_grid.size(0), -1))\n",
    "\n",
    "# Train l2 norm\n",
    "latent = tsdf_encoder.encode(train_tsdf_grid.view(train_tsdf_grid.size(0), -1))\n",
    "train_reconstructed_tsdf_grid = tsdf_encoder.decode(\n",
    "    latent).view(-1, *(antisotropic_res + 1))\n",
    "print(\n",
    "    f\"Train L2 norm: {(train_tsdf_grid - train_reconstructed_tsdf_grid).pow(2).sum(dim=(1, 2, 3)).sqrt().mean()}\")\n",
    "\n",
    "# Test l2 norm\n",
    "latent = tsdf_encoder.encode(test_tsdf_grid.view(test_tsdf_grid.size(0), -1))\n",
    "test_reconstructed_tsdf_grid = tsdf_encoder.decode(\n",
    "    latent).view(-1, *(antisotropic_res + 1))\n",
    "print(\n",
    "    f\"Test L2 norm: {(test_tsdf_grid - test_reconstructed_tsdf_grid).pow(2).sum(dim=(1, 2, 3)).sqrt().mean()}\")"
   ]
  },
  {
   "cell_type": "markdown",
   "metadata": {},
   "source": [
    "## Step 7: Visualizing Reconstructed TSDF Meshes"
   ]
  },
  {
   "cell_type": "code",
   "execution_count": null,
   "metadata": {},
   "outputs": [],
   "source": [
    "selected_idx = torch.randint(0, test_meshes.__len__() - 1, (2, ))\n",
    "\n",
    "print(f\"Randomly selected index: [{selected_idx}]\")\n",
    "print(\"Visualizing voxel meshes from TSDF...\")\n",
    "tsdf_meshes = tsdf2meshes(\n",
    "    test_tsdf_grid[selected_idx], TSDF_UNIT)\n",
    "visualize_meshes(tsdf_meshes, \"Original TSDF Meshes\")\n",
    "\n",
    "print(\"Visualizing voxel meshes from reconstructed TSDF...\")\n",
    "tsdf_meshes = tsdf2meshes(\n",
    "    test_reconstructed_tsdf_grid[selected_idx], TSDF_UNIT)\n",
    "visualize_meshes(tsdf_meshes, \"Reconstructed TSDF Meshes\")"
   ]
  }
 ],
 "metadata": {
  "kernelspec": {
   "display_name": "env_voxeltorch_base",
   "language": "python",
   "name": "python3"
  },
  "language_info": {
   "codemirror_mode": {
    "name": "ipython",
    "version": 3
   },
   "file_extension": ".py",
   "mimetype": "text/x-python",
   "name": "python",
   "nbconvert_exporter": "python",
   "pygments_lexer": "ipython3",
   "version": "3.9.21"
  }
 },
 "nbformat": 4,
 "nbformat_minor": 2
}
