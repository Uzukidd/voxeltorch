{
 "cells": [
  {
   "cell_type": "code",
   "execution_count": null,
   "metadata": {},
   "outputs": [],
   "source": [
    "import sys\n",
    "import os\n",
    "\n",
    "sys.path.append(\"..\")\n",
    "\n",
    "from voxeltorch import TSDF, tsdf2meshes\n"
   ]
  },
  {
   "cell_type": "code",
   "execution_count": null,
   "metadata": {},
   "outputs": [],
   "source": [
    "import torch\n",
    "from pytorch3d.io import load_obj\n",
    "from pytorch3d.ops import sample_farthest_points, sample_points_from_meshes, knn_points\n",
    "from pytorch3d.structures import Meshes, Pointclouds\n",
    "from pytorch3d.vis.plotly_vis import plot_scene\n",
    "\n",
    "def visualize_meshes(meshes:Meshes, title=\"Mesh\"):\n",
    "    mesh_dict = { }\n",
    "    \n",
    "    for idx in range(meshes.__len__()):\n",
    "        mesh_dict[title + f\" {idx}\"] = {\n",
    "            \"mesh\": meshes[idx]\n",
    "        }\n",
    "    fig = plot_scene(mesh_dict, ncols=2)\n",
    "    fig.update_layout(height=400, width=800)\n",
    "    return fig.show()\n",
    "\n",
    "# def visualize_pointcloud(point_cloud:torch.Tensor, title=\"Point cloud\"):\n",
    "#     point_cloud = Pointclouds(points=point_cloud)\n",
    "#     fig = plot_scene({\n",
    "#         title + \"1\": {\n",
    "#             \"mesh\": point_cloud[0]\n",
    "#         },\n",
    "#         title + \"2\": {\n",
    "#             \"mesh\": point_cloud[1]\n",
    "#         },\n",
    "#     }, ncols=2)\n",
    "#     fig.update_layout(height=400, width=800)\n",
    "#     return fig.show()"
   ]
  },
  {
   "cell_type": "code",
   "execution_count": null,
   "metadata": {},
   "outputs": [],
   "source": [
    "mesh1_path = \"..\\\\assets\\\\models\\\\benchmark\\\\019-SUV.obj\"\n",
    "mesh2_path = \"..\\\\assets\\\\models\\\\benchmark\\\\036-CAR01.obj\"\n",
    "verts1, faces1, aux1 = load_obj(mesh1_path, load_textures=False)\n",
    "verts2, faces2, aux2 = load_obj(mesh2_path, load_textures=False)\n",
    "bbox = torch.concat([verts1, verts2]).amax(dim=(0)) - torch.concat([verts1, verts2]).amin(dim=(0))\n",
    "antisotropic_res = (bbox * 10.0).ceil().int()\n",
    "print(f\"bbox: {bbox}\")\n",
    "print(f\"resolution: {antisotropic_res}\")\n",
    "\n",
    "orig_mesh = Meshes(verts=[verts1, verts2], faces=[faces1.verts_idx, faces2.verts_idx])\n",
    "orig_mesh.offset_verts_(torch.Tensor([0.0, -bbox[1].item()/2, 0.0]))\n",
    "print(orig_mesh.__len__())\n",
    "\n",
    "tsdf = TSDF(resolution=antisotropic_res, sampling_count=4096, downsampling_count=2048, bbox=bbox, isotropic=True)\n",
    "\n",
    "tsdf_grid = tsdf.tsdf(orig_mesh)\n",
    "print(tsdf_grid.size())"
   ]
  },
  {
   "cell_type": "code",
   "execution_count": null,
   "metadata": {},
   "outputs": [],
   "source": [
    "print(orig_mesh.__len__())\n",
    "print(\"显示原始模型...\")\n",
    "visualize_meshes(orig_mesh, \"Original Mesh\")\n",
    "print(\"显示体素模型...\")\n",
    "tsdf_meshes = tsdf2meshes(tsdf_grid, antisotropic_res / bbox)\n",
    "visualize_meshes(tsdf_meshes, \"TSDF Mesh\")\n"
   ]
  }
 ],
 "metadata": {
  "kernelspec": {
   "display_name": "car_shape_recon",
   "language": "python",
   "name": "python3"
  },
  "language_info": {
   "codemirror_mode": {
    "name": "ipython",
    "version": 3
   },
   "file_extension": ".py",
   "mimetype": "text/x-python",
   "name": "python",
   "nbconvert_exporter": "python",
   "pygments_lexer": "ipython3",
   "version": "3.10.0"
  }
 },
 "nbformat": 4,
 "nbformat_minor": 2
}
